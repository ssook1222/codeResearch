{
  "nbformat": 4,
  "nbformat_minor": 0,
  "metadata": {
    "colab": {
      "name": "인공신경망.ipynb",
      "provenance": [],
      "collapsed_sections": [],
      "authorship_tag": "ABX9TyMMuDhrZovYkgPhoJDv4H1E"
    },
    "kernelspec": {
      "name": "python3",
      "display_name": "Python 3"
    },
    "language_info": {
      "name": "python"
    }
  },
  "cells": [
    {
      "cell_type": "markdown",
      "metadata": {
        "id": "RRVCYTGbqWEh"
      },
      "source": [
        "한글폰트 설정"
      ]
    },
    {
      "cell_type": "code",
      "metadata": {
        "colab": {
          "base_uri": "https://localhost:8080/"
        },
        "id": "DxYcurA8pYQa",
        "outputId": "4881f4af-c691-4579-ede2-9cd0e7c448b6"
      },
      "source": [
        "!sudo apt-get install -y fonts-nanum\n",
        "!sudo fc-cache -fv\n",
        "!rm ~/.cache/matplotlib -rf"
      ],
      "execution_count": 23,
      "outputs": [
        {
          "output_type": "stream",
          "text": [
            "Reading package lists... Done\n",
            "Building dependency tree       \n",
            "Reading state information... Done\n",
            "The following NEW packages will be installed:\n",
            "  fonts-nanum\n",
            "0 upgraded, 1 newly installed, 0 to remove and 39 not upgraded.\n",
            "Need to get 9,604 kB of archives.\n",
            "After this operation, 29.5 MB of additional disk space will be used.\n",
            "Get:1 http://archive.ubuntu.com/ubuntu bionic/universe amd64 fonts-nanum all 20170925-1 [9,604 kB]\n",
            "Fetched 9,604 kB in 1s (8,369 kB/s)\n",
            "debconf: unable to initialize frontend: Dialog\n",
            "debconf: (No usable dialog-like program is installed, so the dialog based frontend cannot be used. at /usr/share/perl5/Debconf/FrontEnd/Dialog.pm line 76, <> line 1.)\n",
            "debconf: falling back to frontend: Readline\n",
            "debconf: unable to initialize frontend: Readline\n",
            "debconf: (This frontend requires a controlling tty.)\n",
            "debconf: falling back to frontend: Teletype\n",
            "dpkg-preconfigure: unable to re-open stdin: \n",
            "Selecting previously unselected package fonts-nanum.\n",
            "(Reading database ... 160772 files and directories currently installed.)\n",
            "Preparing to unpack .../fonts-nanum_20170925-1_all.deb ...\n",
            "Unpacking fonts-nanum (20170925-1) ...\n",
            "Setting up fonts-nanum (20170925-1) ...\n",
            "Processing triggers for fontconfig (2.12.6-0ubuntu2) ...\n",
            "/usr/share/fonts: caching, new cache contents: 0 fonts, 1 dirs\n",
            "/usr/share/fonts/truetype: caching, new cache contents: 0 fonts, 3 dirs\n",
            "/usr/share/fonts/truetype/humor-sans: caching, new cache contents: 1 fonts, 0 dirs\n",
            "/usr/share/fonts/truetype/liberation: caching, new cache contents: 16 fonts, 0 dirs\n",
            "/usr/share/fonts/truetype/nanum: caching, new cache contents: 10 fonts, 0 dirs\n",
            "/usr/local/share/fonts: caching, new cache contents: 0 fonts, 0 dirs\n",
            "/root/.local/share/fonts: skipping, no such directory\n",
            "/root/.fonts: skipping, no such directory\n",
            "/var/cache/fontconfig: cleaning cache directory\n",
            "/root/.cache/fontconfig: not cleaning non-existent cache directory\n",
            "/root/.fontconfig: not cleaning non-existent cache directory\n",
            "fc-cache: succeeded\n"
          ],
          "name": "stdout"
        }
      ]
    },
    {
      "cell_type": "code",
      "metadata": {
        "id": "bhsC3u9zpx4x"
      },
      "source": [
        "import matplotlib.pyplot as plt\n",
        "\n",
        "plt.rc('font', family='NanumBarunGothic') "
      ],
      "execution_count": 2,
      "outputs": []
    },
    {
      "cell_type": "code",
      "metadata": {
        "id": "zKJ_eF7fX2bQ"
      },
      "source": [
        "import tensorflow as tf\n",
        "import pandas as pd\n",
        "import numpy as np\n",
        "import matplotlib.pyplot as plt"
      ],
      "execution_count": 3,
      "outputs": []
    },
    {
      "cell_type": "code",
      "metadata": {
        "colab": {
          "base_uri": "https://localhost:8080/"
        },
        "id": "iMRHEN1KZO2p",
        "outputId": "2bb8b850-232f-4e12-936a-87c837ab35a2"
      },
      "source": [
        "mnist=tf.keras.datasets.mnist\n",
        "(x_train,y_train),(x_test, y_test)=mnist.load_data()\n",
        "print(\"x_train.shape\", x_train.shape)"
      ],
      "execution_count": 4,
      "outputs": [
        {
          "output_type": "stream",
          "text": [
            "x_train.shape (60000, 28, 28)\n"
          ],
          "name": "stdout"
        }
      ]
    },
    {
      "cell_type": "markdown",
      "metadata": {
        "id": "wSshLblKZwwb"
      },
      "source": [
        "모델 생성"
      ]
    },
    {
      "cell_type": "code",
      "metadata": {
        "id": "tYtp1FKQZtbz"
      },
      "source": [
        "ann=tf.keras.models.Sequential([\n",
        "    tf.keras.layers.Flatten(input_shape=(28,28)),\n",
        "    tf.keras.layers.Dense(128, activation='relu'),\n",
        "    tf.keras.layers.Dropout(0.2),\n",
        "    tf.keras.layers.Dense(10,activation='softmax')                        \n",
        "])"
      ],
      "execution_count": 5,
      "outputs": []
    },
    {
      "cell_type": "code",
      "metadata": {
        "id": "GsN6OJpaaNGA"
      },
      "source": [
        "ann.compile(optimizer='adam', loss='sparse_categorical_crossentropy', metrics=['accuracy'])"
      ],
      "execution_count": 6,
      "outputs": []
    },
    {
      "cell_type": "code",
      "metadata": {
        "colab": {
          "base_uri": "https://localhost:8080/"
        },
        "id": "B1tYvJSwafQv",
        "outputId": "2f83112a-68bf-41ef-e237-fa7e4261c3b1"
      },
      "source": [
        "r=ann.fit(x_train, y_train, validation_data=(x_test,y_test),epochs=20)"
      ],
      "execution_count": 7,
      "outputs": [
        {
          "output_type": "stream",
          "text": [
            "Epoch 1/20\n",
            "1875/1875 [==============================] - 5s 3ms/step - loss: 2.3270 - accuracy: 0.7597 - val_loss: 0.5361 - val_accuracy: 0.8797\n",
            "Epoch 2/20\n",
            "1875/1875 [==============================] - 5s 3ms/step - loss: 0.5711 - accuracy: 0.8507 - val_loss: 0.4104 - val_accuracy: 0.9077\n",
            "Epoch 3/20\n",
            "1875/1875 [==============================] - 5s 3ms/step - loss: 0.4728 - accuracy: 0.8768 - val_loss: 0.3196 - val_accuracy: 0.9262\n",
            "Epoch 4/20\n",
            "1875/1875 [==============================] - 5s 2ms/step - loss: 0.4163 - accuracy: 0.8906 - val_loss: 0.3063 - val_accuracy: 0.9286\n",
            "Epoch 5/20\n",
            "1875/1875 [==============================] - 5s 3ms/step - loss: 0.3904 - accuracy: 0.8990 - val_loss: 0.2882 - val_accuracy: 0.9368\n",
            "Epoch 6/20\n",
            "1875/1875 [==============================] - 5s 3ms/step - loss: 0.3694 - accuracy: 0.9051 - val_loss: 0.2803 - val_accuracy: 0.9356\n",
            "Epoch 7/20\n",
            "1875/1875 [==============================] - 5s 3ms/step - loss: 0.3468 - accuracy: 0.9095 - val_loss: 0.2792 - val_accuracy: 0.9422\n",
            "Epoch 8/20\n",
            "1875/1875 [==============================] - 5s 3ms/step - loss: 0.3457 - accuracy: 0.9121 - val_loss: 0.2627 - val_accuracy: 0.9432\n",
            "Epoch 9/20\n",
            "1875/1875 [==============================] - 5s 3ms/step - loss: 0.3363 - accuracy: 0.9160 - val_loss: 0.2753 - val_accuracy: 0.9425\n",
            "Epoch 10/20\n",
            "1875/1875 [==============================] - 5s 3ms/step - loss: 0.3234 - accuracy: 0.9179 - val_loss: 0.2631 - val_accuracy: 0.9494\n",
            "Epoch 11/20\n",
            "1875/1875 [==============================] - 5s 3ms/step - loss: 0.3212 - accuracy: 0.9213 - val_loss: 0.3012 - val_accuracy: 0.9485\n",
            "Epoch 12/20\n",
            "1875/1875 [==============================] - 5s 2ms/step - loss: 0.3114 - accuracy: 0.9226 - val_loss: 0.2944 - val_accuracy: 0.9417\n",
            "Epoch 13/20\n",
            "1875/1875 [==============================] - 5s 3ms/step - loss: 0.3044 - accuracy: 0.9240 - val_loss: 0.3026 - val_accuracy: 0.9402\n",
            "Epoch 14/20\n",
            "1875/1875 [==============================] - 5s 3ms/step - loss: 0.3067 - accuracy: 0.9235 - val_loss: 0.2863 - val_accuracy: 0.9488\n",
            "Epoch 15/20\n",
            "1875/1875 [==============================] - 5s 3ms/step - loss: 0.3024 - accuracy: 0.9256 - val_loss: 0.3120 - val_accuracy: 0.9419\n",
            "Epoch 16/20\n",
            "1875/1875 [==============================] - 5s 3ms/step - loss: 0.3018 - accuracy: 0.9271 - val_loss: 0.2845 - val_accuracy: 0.9514\n",
            "Epoch 17/20\n",
            "1875/1875 [==============================] - 5s 3ms/step - loss: 0.2855 - accuracy: 0.9298 - val_loss: 0.3038 - val_accuracy: 0.9482\n",
            "Epoch 18/20\n",
            "1875/1875 [==============================] - 5s 3ms/step - loss: 0.2903 - accuracy: 0.9288 - val_loss: 0.3144 - val_accuracy: 0.9470\n",
            "Epoch 19/20\n",
            "1875/1875 [==============================] - 5s 3ms/step - loss: 0.2913 - accuracy: 0.9292 - val_loss: 0.3282 - val_accuracy: 0.9467\n",
            "Epoch 20/20\n",
            "1875/1875 [==============================] - 5s 3ms/step - loss: 0.2877 - accuracy: 0.9308 - val_loss: 0.3664 - val_accuracy: 0.9472\n"
          ],
          "name": "stdout"
        }
      ]
    },
    {
      "cell_type": "code",
      "metadata": {
        "colab": {
          "base_uri": "https://localhost:8080/"
        },
        "id": "CfLBBNBxdE8i",
        "outputId": "351a13cc-eae2-4ddc-a965-e6ceb21e6634"
      },
      "source": [
        "ann.evaluate(x_test,y_test,verbose=2)"
      ],
      "execution_count": 8,
      "outputs": [
        {
          "output_type": "stream",
          "text": [
            "313/313 - 0s - loss: 0.3664 - accuracy: 0.9472\n"
          ],
          "name": "stdout"
        },
        {
          "output_type": "execute_result",
          "data": {
            "text/plain": [
              "[0.36642301082611084, 0.9472000002861023]"
            ]
          },
          "metadata": {
            "tags": []
          },
          "execution_count": 8
        }
      ]
    },
    {
      "cell_type": "code",
      "metadata": {
        "id": "eB79WgpVdTfe",
        "colab": {
          "base_uri": "https://localhost:8080/",
          "height": 498
        },
        "outputId": "9382a83a-3265-445d-ab47-2f3fb909fcfa"
      },
      "source": [
        "from sklearn.metrics import confusion_matrix\n",
        "import numpy as np\n",
        "import itertools\n",
        "\n",
        "def plot_cm(cm, classes, normalize=False, title='Confusion Matrix', cmap=plt.cm.Blues):\n",
        "  if normalize:\n",
        "    cm=cm.astype('float')/cm.sum(axis=1)[:,np.newaxis]\n",
        "    print(\"정규화된 confusion matrix\")\n",
        "  else:\n",
        "    print(\"정규화되지 않은 confusion matrix\")\n",
        "  print(cm)\n",
        "\n",
        "  plt.imshow(cm, interpolation='nearest', cmap=cmap)\n",
        "  plt.title(title)\n",
        "  plt.colorbar()\n",
        "  tick_marks=np.arange(len(classes))\n",
        "  plt.xticks(tick_marks,classes,rotation=45)\n",
        "  plt.yticks(tick_marks,classes)\n",
        "\n",
        "  fmt='.2f' if normalize else 'd'\n",
        "  thresh=cm.max()/2.\n",
        "\n",
        "  for i,j in itertools.product(range(cm.shape[0]), range(cm.shape[1])):\n",
        "    plt.text(j,i,format(cm[i,j],fmt),horizontalalignment='center',color='white' if cm[i,j]>thresh else \"black\")\n",
        "\n",
        "  plt.tight_layout()\n",
        "  plt.ylabel(\"실제값\")\n",
        "  plt.xlabel(\"예측값\")\n",
        "  plt.show()\n",
        "\n",
        "p_test=ann.predict(x_test).argmax(axis=1)\n",
        "cm=confusion_matrix(y_test,p_test)\n",
        "plot_cm(cm,list(range(10)))"
      ],
      "execution_count": 9,
      "outputs": [
        {
          "output_type": "stream",
          "text": [
            "정규화되지 않은 confusion matrix\n",
            "[[ 933    1    3    1    0    3    6    1   32    0]\n",
            " [   0 1113    1    3    0    3    1    0   14    0]\n",
            " [   1    3  988    8    1    1    3    5   22    0]\n",
            " [   1    0   11  973    0    2    0    3   18    2]\n",
            " [   0    0    2    0  939    0   12    1   12   16]\n",
            " [   2    0    1   45    3  792    8    1   34    6]\n",
            " [   5    3    1    1    2    5  922    0   18    1]\n",
            " [   1    3   17   10    3    2    1  973    6   12]\n",
            " [   3    1    8    8    7    6   11    1  927    2]\n",
            " [   1    4    0   14   32    3    1    3   39  912]]\n"
          ],
          "name": "stdout"
        },
        {
          "output_type": "display_data",
          "data": {
            "image/png": "[encoded data removed]",
            "text/plain": [
              "<Figure size 432x288 with 2 Axes>"
            ]
          },
          "metadata": {
            "tags": [],
            "needs_background": "light"
          }
        }
      ]
    },
    {
      "cell_type": "markdown",
      "metadata": {
        "id": "rl8vSnXZnBG2"
      },
      "source": [
        "맞는 경우"
      ]
    },
    {
      "cell_type": "code",
      "metadata": {
        "colab": {
          "base_uri": "https://localhost:8080/",
          "height": 297
        },
        "id": "ObYYeOlFnD6G",
        "outputId": "b25a6469-0ae0-43d7-c616-fd0598fcc060"
      },
      "source": [
        "classified_idx=np.where(p_test==y_test)[0]\n",
        "i=np.random.choice(classified_idx)\n",
        "plt.imshow(x_test[i],cmap='gray')\n",
        "plt.title(\"실제 숫자: %s 예측숫자: %s\" %(y_test[i],p_test[i]))"
      ],
      "execution_count": 10,
      "outputs": [
        {
          "output_type": "execute_result",
          "data": {
            "text/plain": [
              "Text(0.5, 1.0, '실제 숫자: 9 예측숫자: 9')"
            ]
          },
          "metadata": {
            "tags": []
          },
          "execution_count": 10
        },
        {
          "output_type": "display_data",
          "data": {
            "image/png": "[encoded data removed]",
            "text/plain": [
              "<Figure size 432x288 with 1 Axes>"
            ]
          },
          "metadata": {
            "tags": [],
            "needs_background": "light"
          }
        }
      ]
    },
    {
      "cell_type": "markdown",
      "metadata": {
        "id": "QQe5IfeQo2hh"
      },
      "source": [
        "틀린 경우"
      ]
    },
    {
      "cell_type": "code",
      "metadata": {
        "colab": {
          "base_uri": "https://localhost:8080/",
          "height": 297
        },
        "id": "_pPZTLseovY8",
        "outputId": "bb93fd42-79aa-4ced-e3c7-288e4a161e42"
      },
      "source": [
        "misclassified_idx=np.where(p_test!=y_test)[0]\n",
        "i=np.random.choice(misclassified_idx)\n",
        "plt.imshow(x_test[i],cmap='gray')\n",
        "plt.title(\"실제 숫자: %s 예측숫자: %s\" %(y_test[i],p_test[i]))"
      ],
      "execution_count": 11,
      "outputs": [
        {
          "output_type": "execute_result",
          "data": {
            "text/plain": [
              "Text(0.5, 1.0, '실제 숫자: 8 예측숫자: 3')"
            ]
          },
          "metadata": {
            "tags": []
          },
          "execution_count": 11
        },
        {
          "output_type": "display_data",
          "data": {
            "image/png": "[encoded data removed]",
            "text/plain": [
              "<Figure size 432x288 with 1 Axes>"
            ]
          },
          "metadata": {
            "tags": [],
            "needs_background": "light"
          }
        }
      ]
    }
  ]
}