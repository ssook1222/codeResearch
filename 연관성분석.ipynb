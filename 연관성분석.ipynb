{
  "nbformat": 4,
  "nbformat_minor": 0,
  "metadata": {
    "colab": {
      "name": "연관성분석.ipynb",
      "provenance": [],
      "collapsed_sections": [],
      "authorship_tag": "ABX9TyPC2IRGcmpTeSCjZ89x5luE",
      "include_colab_link": true
    },
    "kernelspec": {
      "name": "python3",
      "display_name": "Python 3"
    },
    "language_info": {
      "name": "python"
    }
  },
  "cells": [
    {
      "cell_type": "markdown",
      "metadata": {
        "id": "view-in-github",
        "colab_type": "text"
      },
      "source": [
        "<a href=\"https://colab.research.google.com/github/ssook1222/codeResearch/blob/main/%EC%97%B0%EA%B4%80%EC%84%B1%EB%B6%84%EC%84%9D.ipynb\" target=\"_parent\"><img src=\"https://colab.research.google.com/assets/colab-badge.svg\" alt=\"Open In Colab\"/></a>"
      ]
    },
    {
      "cell_type": "code",
      "metadata": {
        "colab": {
          "base_uri": "https://localhost:8080/"
        },
        "id": "LwGmPKJ-p7IH",
        "outputId": "cd5502ed-48fb-45eb-dac1-632236b34a4a"
      },
      "source": [
        "pip install apyori"
      ],
      "execution_count": 2,
      "outputs": [
        {
          "output_type": "stream",
          "text": [
            "Collecting apyori\n",
            "  Downloading https://files.pythonhosted.org/packages/5e/62/5ffde5c473ea4b033490617ec5caa80d59804875ad3c3c57c0976533a21a/apyori-1.1.2.tar.gz\n",
            "Building wheels for collected packages: apyori\n",
            "  Building wheel for apyori (setup.py) ... \u001b[?25l\u001b[?25hdone\n",
            "  Created wheel for apyori: filename=apyori-1.1.2-cp37-none-any.whl size=5975 sha256=d087b4feecbd8e898c2388f6beb0135fb2acc72fde39b769755e3acabb52361d\n",
            "  Stored in directory: /root/.cache/pip/wheels/5d/92/bb/474bbadbc8c0062b9eb168f69982a0443263f8ab1711a8cad0\n",
            "Successfully built apyori\n",
            "Installing collected packages: apyori\n",
            "Successfully installed apyori-1.1.2\n"
          ],
          "name": "stdout"
        }
      ]
    },
    {
      "cell_type": "code",
      "metadata": {
        "id": "d1pIPrEkpP-7"
      },
      "source": [
        "import pandas as pd\n",
        "import numpy as np\n",
        "import matplotlib.pyplot as plt\n",
        "from apyori import apriori"
      ],
      "execution_count": 3,
      "outputs": []
    },
    {
      "cell_type": "code",
      "metadata": {
        "colab": {
          "resources": {
            "http://localhost:8080/nbextensions/google.colab/files.js": {
              "data": "Ly8gQ29weXJpZ2h0IDIwMTcgR29vZ2xlIExMQwovLwovLyBMaWNlbnNlZCB1bmRlciB0aGUgQXBhY2hlIExpY2Vuc2UsIFZlcnNpb24gMi4wICh0aGUgIkxpY2Vuc2UiKTsKLy8geW91IG1heSBub3QgdXNlIHRoaXMgZmlsZSBleGNlcHQgaW4gY29tcGxpYW5jZSB3aXRoIHRoZSBMaWNlbnNlLgovLyBZb3UgbWF5IG9idGFpbiBhIGNvcHkgb2YgdGhlIExpY2Vuc2UgYXQKLy8KLy8gICAgICBodHRwOi8vd3d3LmFwYWNoZS5vcmcvbGljZW5zZXMvTElDRU5TRS0yLjAKLy8KLy8gVW5sZXNzIHJlcXVpcmVkIGJ5IGFwcGxpY2FibGUgbGF3IG9yIGFncmVlZCB0byBpbiB3cml0aW5nLCBzb2Z0d2FyZQovLyBkaXN0cmlidXRlZCB1bmRlciB0aGUgTGljZW5zZSBpcyBkaXN0cmlidXRlZCBvbiBhbiAiQVMgSVMiIEJBU0lTLAovLyBXSVRIT1VUIFdBUlJBTlRJRVMgT1IgQ09ORElUSU9OUyBPRiBBTlkgS0lORCwgZWl0aGVyIGV4cHJlc3Mgb3IgaW1wbGllZC4KLy8gU2VlIHRoZSBMaWNlbnNlIGZvciB0aGUgc3BlY2lmaWMgbGFuZ3VhZ2UgZ292ZXJuaW5nIHBlcm1pc3Npb25zIGFuZAovLyBsaW1pdGF0aW9ucyB1bmRlciB0aGUgTGljZW5zZS4KCi8qKgogKiBAZmlsZW92ZXJ2aWV3IEhlbHBlcnMgZm9yIGdvb2dsZS5jb2xhYiBQeXRob24gbW9kdWxlLgogKi8KKGZ1bmN0aW9uKHNjb3BlKSB7CmZ1bmN0aW9uIHNwYW4odGV4dCwgc3R5bGVBdHRyaWJ1dGVzID0ge30pIHsKICBjb25zdCBlbGVtZW50ID0gZG9jdW1lbnQuY3JlYXRlRWxlbWVudCgnc3BhbicpOwogIGVsZW1lbnQudGV4dENvbnRlbnQgPSB0ZXh0OwogIGZvciAoY29uc3Qga2V5IG9mIE9iamVjdC5rZXlzKHN0eWxlQXR0cmlidXRlcykpIHsKICAgIGVsZW1lbnQuc3R5bGVba2V5XSA9IHN0eWxlQXR0cmlidXRlc1trZXldOwogIH0KICByZXR1cm4gZWxlbWVudDsKfQoKLy8gTWF4IG51bWJlciBvZiBieXRlcyB3aGljaCB3aWxsIGJlIHVwbG9hZGVkIGF0IGEgdGltZS4KY29uc3QgTUFYX1BBWUxPQURfU0laRSA9IDEwMCAqIDEwMjQ7CgpmdW5jdGlvbiBfdXBsb2FkRmlsZXMoaW5wdXRJZCwgb3V0cHV0SWQpIHsKICBjb25zdCBzdGVwcyA9IHVwbG9hZEZpbGVzU3RlcChpbnB1dElkLCBvdXRwdXRJZCk7CiAgY29uc3Qgb3V0cHV0RWxlbWVudCA9IGRvY3VtZW50LmdldEVsZW1lbnRCeUlkKG91dHB1dElkKTsKICAvLyBDYWNoZSBzdGVwcyBvbiB0aGUgb3V0cHV0RWxlbWVudCB0byBtYWtlIGl0IGF2YWlsYWJsZSBmb3IgdGhlIG5leHQgY2FsbAogIC8vIHRvIHVwbG9hZEZpbGVzQ29udGludWUgZnJvbSBQeXRob24uCiAgb3V0cHV0RWxlbWVudC5zdGVwcyA9IHN0ZXBzOwoKICByZXR1cm4gX3VwbG9hZEZpbGVzQ29udGludWUob3V0cHV0SWQpOwp9CgovLyBUaGlzIGlzIHJvdWdobHkgYW4gYXN5bmMgZ2VuZXJhdG9yIChub3Qgc3VwcG9ydGVkIGluIHRoZSBicm93c2VyIHlldCksCi8vIHdoZXJlIHRoZXJlIGFyZSBtdWx0aXBsZSBhc3luY2hyb25vdXMgc3RlcHMgYW5kIHRoZSBQeXRob24gc2lkZSBpcyBnb2luZwovLyB0byBwb2xsIGZvciBjb21wbGV0aW9uIG9mIGVhY2ggc3RlcC4KLy8gVGhpcyB1c2VzIGEgUHJvbWlzZSB0byBibG9jayB0aGUgcHl0aG9uIHNpZGUgb24gY29tcGxldGlvbiBvZiBlYWNoIHN0ZXAsCi8vIHRoZW4gcGFzc2VzIHRoZSByZXN1bHQgb2YgdGhlIHByZXZpb3VzIHN0ZXAgYXMgdGhlIGlucHV0IHRvIHRoZSBuZXh0IHN0ZXAuCmZ1bmN0aW9uIF91cGxvYWRGaWxlc0NvbnRpbnVlKG91dHB1dElkKSB7CiAgY29uc3Qgb3V0cHV0RWxlbWVudCA9IGRvY3VtZW50LmdldEVsZW1lbnRCeUlkKG91dHB1dElkKTsKICBjb25zdCBzdGVwcyA9IG91dHB1dEVsZW1lbnQuc3RlcHM7CgogIGNvbnN0IG5leHQgPSBzdGVwcy5uZXh0KG91dHB1dEVsZW1lbnQubGFzdFByb21pc2VWYWx1ZSk7CiAgcmV0dXJuIFByb21pc2UucmVzb2x2ZShuZXh0LnZhbHVlLnByb21pc2UpLnRoZW4oKHZhbHVlKSA9PiB7CiAgICAvLyBDYWNoZSB0aGUgbGFzdCBwcm9taXNlIHZhbHVlIHRvIG1ha2UgaXQgYXZhaWxhYmxlIHRvIHRoZSBuZXh0CiAgICAvLyBzdGVwIG9mIHRoZSBnZW5lcmF0b3IuCiAgICBvdXRwdXRFbGVtZW50Lmxhc3RQcm9taXNlVmFsdWUgPSB2YWx1ZTsKICAgIHJldHVybiBuZXh0LnZhbHVlLnJlc3BvbnNlOwogIH0pOwp9CgovKioKICogR2VuZXJhdG9yIGZ1bmN0aW9uIHdoaWNoIGlzIGNhbGxlZCBiZXR3ZWVuIGVhY2ggYXN5bmMgc3RlcCBvZiB0aGUgdXBsb2FkCiAqIHByb2Nlc3MuCiAqIEBwYXJhbSB7c3RyaW5nfSBpbnB1dElkIEVsZW1lbnQgSUQgb2YgdGhlIGlucHV0IGZpbGUgcGlja2VyIGVsZW1lbnQuCiAqIEBwYXJhbSB7c3RyaW5nfSBvdXRwdXRJZCBFbGVtZW50IElEIG9mIHRoZSBvdXRwdXQgZGlzcGxheS4KICogQHJldHVybiB7IUl0ZXJhYmxlPCFPYmplY3Q+fSBJdGVyYWJsZSBvZiBuZXh0IHN0ZXBzLgogKi8KZnVuY3Rpb24qIHVwbG9hZEZpbGVzU3RlcChpbnB1dElkLCBvdXRwdXRJZCkgewogIGNvbnN0IGlucHV0RWxlbWVudCA9IGRvY3VtZW50LmdldEVsZW1lbnRCeUlkKGlucHV0SWQpOwogIGlucHV0RWxlbWVudC5kaXNhYmxlZCA9IGZhbHNlOwoKICBjb25zdCBvdXRwdXRFbGVtZW50ID0gZG9jdW1lbnQuZ2V0RWxlbWVudEJ5SWQob3V0cHV0SWQpOwogIG91dHB1dEVsZW1lbnQuaW5uZXJIVE1MID0gJyc7CgogIGNvbnN0IHBpY2tlZFByb21pc2UgPSBuZXcgUHJvbWlzZSgocmVzb2x2ZSkgPT4gewogICAgaW5wdXRFbGVtZW50LmFkZEV2ZW50TGlzdGVuZXIoJ2NoYW5nZScsIChlKSA9PiB7CiAgICAgIHJlc29sdmUoZS50YXJnZXQuZmlsZXMpOwogICAgfSk7CiAgfSk7CgogIGNvbnN0IGNhbmNlbCA9IGRvY3VtZW50LmNyZWF0ZUVsZW1lbnQoJ2J1dHRvbicpOwogIGlucHV0RWxlbWVudC5wYXJlbnRFbGVtZW50LmFwcGVuZENoaWxkKGNhbmNlbCk7CiAgY2FuY2VsLnRleHRDb250ZW50ID0gJ0NhbmNlbCB1cGxvYWQnOwogIGNvbnN0IGNhbmNlbFByb21pc2UgPSBuZXcgUHJvbWlzZSgocmVzb2x2ZSkgPT4gewogICAgY2FuY2VsLm9uY2xpY2sgPSAoKSA9PiB7CiAgICAgIHJlc29sdmUobnVsbCk7CiAgICB9OwogIH0pOwoKICAvLyBXYWl0IGZvciB0aGUgdXNlciB0byBwaWNrIHRoZSBmaWxlcy4KICBjb25zdCBmaWxlcyA9IHlpZWxkIHsKICAgIHByb21pc2U6IFByb21pc2UucmFjZShbcGlja2VkUHJvbWlzZSwgY2FuY2VsUHJvbWlzZV0pLAogICAgcmVzcG9uc2U6IHsKICAgICAgYWN0aW9uOiAnc3RhcnRpbmcnLAogICAgfQogIH07CgogIGNhbmNlbC5yZW1vdmUoKTsKCiAgLy8gRGlzYWJsZSB0aGUgaW5wdXQgZWxlbWVudCBzaW5jZSBmdXJ0aGVyIHBpY2tzIGFyZSBub3QgYWxsb3dlZC4KICBpbnB1dEVsZW1lbnQuZGlzYWJsZWQgPSB0cnVlOwoKICBpZiAoIWZpbGVzKSB7CiAgICByZXR1cm4gewogICAgICByZXNwb25zZTogewogICAgICAgIGFjdGlvbjogJ2NvbXBsZXRlJywKICAgICAgfQogICAgfTsKICB9CgogIGZvciAoY29uc3QgZmlsZSBvZiBmaWxlcykgewogICAgY29uc3QgbGkgPSBkb2N1bWVudC5jcmVhdGVFbGVtZW50KCdsaScpOwogICAgbGkuYXBwZW5kKHNwYW4oZmlsZS5uYW1lLCB7Zm9udFdlaWdodDogJ2JvbGQnfSkpOwogICAgbGkuYXBwZW5kKHNwYW4oCiAgICAgICAgYCgke2ZpbGUudHlwZSB8fCAnbi9hJ30pIC0gJHtmaWxlLnNpemV9IGJ5dGVzLCBgICsKICAgICAgICBgbGFzdCBtb2RpZmllZDogJHsKICAgICAgICAgICAgZmlsZS5sYXN0TW9kaWZpZWREYXRlID8gZmlsZS5sYXN0TW9kaWZpZWREYXRlLnRvTG9jYWxlRGF0ZVN0cmluZygpIDoKICAgICAgICAgICAgICAgICAgICAgICAgICAgICAgICAgICAgJ24vYSd9IC0gYCkpOwogICAgY29uc3QgcGVyY2VudCA9IHNwYW4oJzAlIGRvbmUnKTsKICAgIGxpLmFwcGVuZENoaWxkKHBlcmNlbnQpOwoKICAgIG91dHB1dEVsZW1lbnQuYXBwZW5kQ2hpbGQobGkpOwoKICAgIGNvbnN0IGZpbGVEYXRhUHJvbWlzZSA9IG5ldyBQcm9taXNlKChyZXNvbHZlKSA9PiB7CiAgICAgIGNvbnN0IHJlYWRlciA9IG5ldyBGaWxlUmVhZGVyKCk7CiAgICAgIHJlYWRlci5vbmxvYWQgPSAoZSkgPT4gewogICAgICAgIHJlc29sdmUoZS50YXJnZXQucmVzdWx0KTsKICAgICAgfTsKICAgICAgcmVhZGVyLnJlYWRBc0FycmF5QnVmZmVyKGZpbGUpOwogICAgfSk7CiAgICAvLyBXYWl0IGZvciB0aGUgZGF0YSB0byBiZSByZWFkeS4KICAgIGxldCBmaWxlRGF0YSA9IHlpZWxkIHsKICAgICAgcHJvbWlzZTogZmlsZURhdGFQcm9taXNlLAogICAgICByZXNwb25zZTogewogICAgICAgIGFjdGlvbjogJ2NvbnRpbnVlJywKICAgICAgfQogICAgfTsKCiAgICAvLyBVc2UgYSBjaHVua2VkIHNlbmRpbmcgdG8gYXZvaWQgbWVzc2FnZSBzaXplIGxpbWl0cy4gU2VlIGIvNjIxMTU2NjAuCiAgICBsZXQgcG9zaXRpb24gPSAwOwogICAgZG8gewogICAgICBjb25zdCBsZW5ndGggPSBNYXRoLm1pbihmaWxlRGF0YS5ieXRlTGVuZ3RoIC0gcG9zaXRpb24sIE1BWF9QQVlMT0FEX1NJWkUpOwogICAgICBjb25zdCBjaHVuayA9IG5ldyBVaW50OEFycmF5KGZpbGVEYXRhLCBwb3NpdGlvbiwgbGVuZ3RoKTsKICAgICAgcG9zaXRpb24gKz0gbGVuZ3RoOwoKICAgICAgY29uc3QgYmFzZTY0ID0gYnRvYShTdHJpbmcuZnJvbUNoYXJDb2RlLmFwcGx5KG51bGwsIGNodW5rKSk7CiAgICAgIHlpZWxkIHsKICAgICAgICByZXNwb25zZTogewogICAgICAgICAgYWN0aW9uOiAnYXBwZW5kJywKICAgICAgICAgIGZpbGU6IGZpbGUubmFtZSwKICAgICAgICAgIGRhdGE6IGJhc2U2NCwKICAgICAgICB9LAogICAgICB9OwoKICAgICAgbGV0IHBlcmNlbnREb25lID0gZmlsZURhdGEuYnl0ZUxlbmd0aCA9PT0gMCA/CiAgICAgICAgICAxMDAgOgogICAgICAgICAgTWF0aC5yb3VuZCgocG9zaXRpb24gLyBmaWxlRGF0YS5ieXRlTGVuZ3RoKSAqIDEwMCk7CiAgICAgIHBlcmNlbnQudGV4dENvbnRlbnQgPSBgJHtwZXJjZW50RG9uZX0lIGRvbmVgOwoKICAgIH0gd2hpbGUgKHBvc2l0aW9uIDwgZmlsZURhdGEuYnl0ZUxlbmd0aCk7CiAgfQoKICAvLyBBbGwgZG9uZS4KICB5aWVsZCB7CiAgICByZXNwb25zZTogewogICAgICBhY3Rpb246ICdjb21wbGV0ZScsCiAgICB9CiAgfTsKfQoKc2NvcGUuZ29vZ2xlID0gc2NvcGUuZ29vZ2xlIHx8IHt9OwpzY29wZS5nb29nbGUuY29sYWIgPSBzY29wZS5nb29nbGUuY29sYWIgfHwge307CnNjb3BlLmdvb2dsZS5jb2xhYi5fZmlsZXMgPSB7CiAgX3VwbG9hZEZpbGVzLAogIF91cGxvYWRGaWxlc0NvbnRpbnVlLAp9Owp9KShzZWxmKTsK",
              "ok": true,
              "headers": [
                [
                  "content-type",
                  "application/javascript"
                ]
              ],
              "status": 200,
              "status_text": ""
            }
          },
          "base_uri": "https://localhost:8080/",
          "height": 73
        },
        "id": "ff8-us_eqMUH",
        "outputId": "db37e3a7-3a88-426f-8067-cf577df3cc04"
      },
      "source": [
        "from google.colab import files\n",
        "file_uploaded = files.upload()"
      ],
      "execution_count": 16,
      "outputs": [
        {
          "output_type": "display_data",
          "data": {
            "text/html": [
              "\n",
              "     <input type=\"file\" id=\"files-53253655-51b4-43fe-80af-3b17dc6b8561\" name=\"files[]\" multiple disabled\n",
              "        style=\"border:none\" />\n",
              "     <output id=\"result-53253655-51b4-43fe-80af-3b17dc6b8561\">\n",
              "      Upload widget is only available when the cell has been executed in the\n",
              "      current browser session. Please rerun this cell to enable.\n",
              "      </output>\n",
              "      <script src=\"/nbextensions/google.colab/files.js\"></script> "
            ],
            "text/plain": [
              "<IPython.core.display.HTML object>"
            ]
          },
          "metadata": {
            "tags": []
          }
        },
        {
          "output_type": "stream",
          "text": [
            "Saving store_data.csv to store_data (1).csv\n"
          ],
          "name": "stdout"
        }
      ]
    },
    {
      "cell_type": "code",
      "metadata": {
        "colab": {
          "base_uri": "https://localhost:8080/",
          "height": 272
        },
        "id": "MdpPYw85qCvY",
        "outputId": "6bc5497e-7e10-4881-a0a3-6040b609515b"
      },
      "source": [
        "store_data=pd.read_csv(\"store_data (1).csv\", header=None)\n",
        "display(store_data.head())\n",
        "print(store_data.shape)"
      ],
      "execution_count": 17,
      "outputs": [
        {
          "output_type": "display_data",
          "data": {
            "text/html": [
              "<div>\n",
              "<style scoped>\n",
              "    .dataframe tbody tr th:only-of-type {\n",
              "        vertical-align: middle;\n",
              "    }\n",
              "\n",
              "    .dataframe tbody tr th {\n",
              "        vertical-align: top;\n",
              "    }\n",
              "\n",
              "    .dataframe thead th {\n",
              "        text-align: right;\n",
              "    }\n",
              "</style>\n",
              "<table border=\"1\" class=\"dataframe\">\n",
              "  <thead>\n",
              "    <tr style=\"text-align: right;\">\n",
              "      <th></th>\n",
              "      <th>0</th>\n",
              "      <th>1</th>\n",
              "      <th>2</th>\n",
              "      <th>3</th>\n",
              "      <th>4</th>\n",
              "      <th>5</th>\n",
              "      <th>6</th>\n",
              "      <th>7</th>\n",
              "      <th>8</th>\n",
              "      <th>9</th>\n",
              "      <th>10</th>\n",
              "      <th>11</th>\n",
              "      <th>12</th>\n",
              "      <th>13</th>\n",
              "      <th>14</th>\n",
              "      <th>15</th>\n",
              "      <th>16</th>\n",
              "      <th>17</th>\n",
              "      <th>18</th>\n",
              "      <th>19</th>\n",
              "    </tr>\n",
              "  </thead>\n",
              "  <tbody>\n",
              "    <tr>\n",
              "      <th>0</th>\n",
              "      <td>shrimp</td>\n",
              "      <td>almonds</td>\n",
              "      <td>avocado</td>\n",
              "      <td>vegetables mix</td>\n",
              "      <td>green grapes</td>\n",
              "      <td>whole weat flour</td>\n",
              "      <td>yams</td>\n",
              "      <td>cottage cheese</td>\n",
              "      <td>energy drink</td>\n",
              "      <td>tomato juice</td>\n",
              "      <td>low fat yogurt</td>\n",
              "      <td>green tea</td>\n",
              "      <td>honey</td>\n",
              "      <td>salad</td>\n",
              "      <td>mineral water</td>\n",
              "      <td>salmon</td>\n",
              "      <td>antioxydant juice</td>\n",
              "      <td>frozen smoothie</td>\n",
              "      <td>spinach</td>\n",
              "      <td>olive oil</td>\n",
              "    </tr>\n",
              "    <tr>\n",
              "      <th>1</th>\n",
              "      <td>burgers</td>\n",
              "      <td>meatballs</td>\n",
              "      <td>eggs</td>\n",
              "      <td>NaN</td>\n",
              "      <td>NaN</td>\n",
              "      <td>NaN</td>\n",
              "      <td>NaN</td>\n",
              "      <td>NaN</td>\n",
              "      <td>NaN</td>\n",
              "      <td>NaN</td>\n",
              "      <td>NaN</td>\n",
              "      <td>NaN</td>\n",
              "      <td>NaN</td>\n",
              "      <td>NaN</td>\n",
              "      <td>NaN</td>\n",
              "      <td>NaN</td>\n",
              "      <td>NaN</td>\n",
              "      <td>NaN</td>\n",
              "      <td>NaN</td>\n",
              "      <td>NaN</td>\n",
              "    </tr>\n",
              "    <tr>\n",
              "      <th>2</th>\n",
              "      <td>chutney</td>\n",
              "      <td>NaN</td>\n",
              "      <td>NaN</td>\n",
              "      <td>NaN</td>\n",
              "      <td>NaN</td>\n",
              "      <td>NaN</td>\n",
              "      <td>NaN</td>\n",
              "      <td>NaN</td>\n",
              "      <td>NaN</td>\n",
              "      <td>NaN</td>\n",
              "      <td>NaN</td>\n",
              "      <td>NaN</td>\n",
              "      <td>NaN</td>\n",
              "      <td>NaN</td>\n",
              "      <td>NaN</td>\n",
              "      <td>NaN</td>\n",
              "      <td>NaN</td>\n",
              "      <td>NaN</td>\n",
              "      <td>NaN</td>\n",
              "      <td>NaN</td>\n",
              "    </tr>\n",
              "    <tr>\n",
              "      <th>3</th>\n",
              "      <td>turkey</td>\n",
              "      <td>avocado</td>\n",
              "      <td>NaN</td>\n",
              "      <td>NaN</td>\n",
              "      <td>NaN</td>\n",
              "      <td>NaN</td>\n",
              "      <td>NaN</td>\n",
              "      <td>NaN</td>\n",
              "      <td>NaN</td>\n",
              "      <td>NaN</td>\n",
              "      <td>NaN</td>\n",
              "      <td>NaN</td>\n",
              "      <td>NaN</td>\n",
              "      <td>NaN</td>\n",
              "      <td>NaN</td>\n",
              "      <td>NaN</td>\n",
              "      <td>NaN</td>\n",
              "      <td>NaN</td>\n",
              "      <td>NaN</td>\n",
              "      <td>NaN</td>\n",
              "    </tr>\n",
              "    <tr>\n",
              "      <th>4</th>\n",
              "      <td>mineral water</td>\n",
              "      <td>milk</td>\n",
              "      <td>energy bar</td>\n",
              "      <td>whole wheat rice</td>\n",
              "      <td>green tea</td>\n",
              "      <td>NaN</td>\n",
              "      <td>NaN</td>\n",
              "      <td>NaN</td>\n",
              "      <td>NaN</td>\n",
              "      <td>NaN</td>\n",
              "      <td>NaN</td>\n",
              "      <td>NaN</td>\n",
              "      <td>NaN</td>\n",
              "      <td>NaN</td>\n",
              "      <td>NaN</td>\n",
              "      <td>NaN</td>\n",
              "      <td>NaN</td>\n",
              "      <td>NaN</td>\n",
              "      <td>NaN</td>\n",
              "      <td>NaN</td>\n",
              "    </tr>\n",
              "  </tbody>\n",
              "</table>\n",
              "</div>"
            ],
            "text/plain": [
              "              0          1           2   ...               17       18         19\n",
              "0         shrimp    almonds     avocado  ...  frozen smoothie  spinach  olive oil\n",
              "1        burgers  meatballs        eggs  ...              NaN      NaN        NaN\n",
              "2        chutney        NaN         NaN  ...              NaN      NaN        NaN\n",
              "3         turkey    avocado         NaN  ...              NaN      NaN        NaN\n",
              "4  mineral water       milk  energy bar  ...              NaN      NaN        NaN\n",
              "\n",
              "[5 rows x 20 columns]"
            ]
          },
          "metadata": {
            "tags": []
          }
        },
        {
          "output_type": "stream",
          "text": [
            "(7501, 20)\n"
          ],
          "name": "stdout"
        }
      ]
    },
    {
      "cell_type": "code",
      "metadata": {
        "id": "cxmKgxIPq24P"
      },
      "source": [
        "records = []\n",
        "for i in range(0, 7501):\n",
        "    records.append([str(store_data.values[i,j]) for j in range(0, 20)])"
      ],
      "execution_count": 18,
      "outputs": []
    },
    {
      "cell_type": "code",
      "metadata": {
        "id": "ITsiimxDsSBk"
      },
      "source": [
        "asso_rules = apriori(records, min_support=0.0045, min_confidence=0.2, min_lift=3, min_length=2)\n",
        "asso_results = list(asso_rules)"
      ],
      "execution_count": 23,
      "outputs": []
    },
    {
      "cell_type": "code",
      "metadata": {
        "colab": {
          "base_uri": "https://localhost:8080/"
        },
        "id": "ttDAeHJGscFy",
        "outputId": "9e9b3318-e427-412e-b7ef-a4f5ce3b46c2"
      },
      "source": [
        "print(\"총 {} 개의 Relation.\".format(len(asso_results)))"
      ],
      "execution_count": 24,
      "outputs": [
        {
          "output_type": "stream",
          "text": [
            "총 48 개의 Relation.\n"
          ],
          "name": "stdout"
        }
      ]
    },
    {
      "cell_type": "code",
      "metadata": {
        "colab": {
          "base_uri": "https://localhost:8080/"
        },
        "id": "lVDd0xupsjWY",
        "outputId": "9bb718ff-a083-404d-a9bb-2e08a9630660"
      },
      "source": [
        "for i in range(0, len(asso_results)):\n",
        "  print(asso_results[i][0])"
      ],
      "execution_count": 25,
      "outputs": [
        {
          "output_type": "stream",
          "text": [
            "frozenset({'chicken', 'light cream'})\n",
            "frozenset({'mushroom cream sauce', 'escalope'})\n",
            "frozenset({'escalope', 'pasta'})\n",
            "frozenset({'herb & pepper', 'ground beef'})\n",
            "frozenset({'ground beef', 'tomato sauce'})\n",
            "frozenset({'whole wheat pasta', 'olive oil'})\n",
            "frozenset({'pasta', 'shrimp'})\n",
            "frozenset({'chicken', 'light cream', 'nan'})\n",
            "frozenset({'frozen vegetables', 'chocolate', 'shrimp'})\n",
            "frozenset({'spaghetti', 'ground beef', 'cooking oil'})\n",
            "frozenset({'nan', 'mushroom cream sauce', 'escalope'})\n",
            "frozenset({'nan', 'escalope', 'pasta'})\n",
            "frozenset({'frozen vegetables', 'ground beef', 'spaghetti'})\n",
            "frozenset({'frozen vegetables', 'olive oil', 'milk'})\n",
            "frozenset({'frozen vegetables', 'shrimp', 'mineral water'})\n",
            "frozenset({'frozen vegetables', 'spaghetti', 'olive oil'})\n",
            "frozenset({'frozen vegetables', 'spaghetti', 'shrimp'})\n",
            "frozenset({'frozen vegetables', 'spaghetti', 'tomatoes'})\n",
            "frozenset({'spaghetti', 'ground beef', 'grated cheese'})\n",
            "frozenset({'herb & pepper', 'ground beef', 'mineral water'})\n",
            "frozenset({'herb & pepper', 'ground beef', 'nan'})\n",
            "frozenset({'herb & pepper', 'ground beef', 'spaghetti'})\n",
            "frozenset({'ground beef', 'olive oil', 'milk'})\n",
            "frozenset({'ground beef', 'tomato sauce', 'nan'})\n",
            "frozenset({'spaghetti', 'ground beef', 'shrimp'})\n",
            "frozenset({'spaghetti', 'olive oil', 'milk'})\n",
            "frozenset({'olive oil', 'mineral water', 'soup'})\n",
            "frozenset({'nan', 'olive oil', 'whole wheat pasta'})\n",
            "frozenset({'nan', 'pasta', 'shrimp'})\n",
            "frozenset({'spaghetti', 'olive oil', 'pancakes'})\n",
            "frozenset({'frozen vegetables', 'chocolate', 'shrimp', 'nan'})\n",
            "frozenset({'spaghetti', 'ground beef', 'cooking oil', 'nan'})\n",
            "frozenset({'frozen vegetables', 'ground beef', 'spaghetti', 'nan'})\n",
            "frozenset({'frozen vegetables', 'spaghetti', 'milk', 'mineral water'})\n",
            "frozenset({'frozen vegetables', 'nan', 'olive oil', 'milk'})\n",
            "frozenset({'frozen vegetables', 'nan', 'shrimp', 'mineral water'})\n",
            "frozenset({'frozen vegetables', 'nan', 'olive oil', 'spaghetti'})\n",
            "frozenset({'frozen vegetables', 'nan', 'shrimp', 'spaghetti'})\n",
            "frozenset({'frozen vegetables', 'nan', 'tomatoes', 'spaghetti'})\n",
            "frozenset({'spaghetti', 'ground beef', 'grated cheese', 'nan'})\n",
            "frozenset({'herb & pepper', 'ground beef', 'mineral water', 'nan'})\n",
            "frozenset({'herb & pepper', 'ground beef', 'spaghetti', 'nan'})\n",
            "frozenset({'ground beef', 'olive oil', 'milk', 'nan'})\n",
            "frozenset({'spaghetti', 'ground beef', 'shrimp', 'nan'})\n",
            "frozenset({'spaghetti', 'nan', 'olive oil', 'milk'})\n",
            "frozenset({'nan', 'olive oil', 'mineral water', 'soup'})\n",
            "frozenset({'spaghetti', 'nan', 'olive oil', 'pancakes'})\n",
            "frozenset({'mineral water', 'frozen vegetables', 'nan', 'spaghetti', 'milk'})\n"
          ],
          "name": "stdout"
        }
      ]
    },
    {
      "cell_type": "code",
      "metadata": {
        "colab": {
          "base_uri": "https://localhost:8080/"
        },
        "id": "7RxIahPttI6k",
        "outputId": "eab01d3d-db25-485f-a5ee-0625afb70009"
      },
      "source": [
        "for item in asso_results:\n",
        "  pair=item[0]\n",
        "  items=[x for x in pair]\n",
        "  print(\"규칙: \" + items[0] + \"→\" +items[1])\n",
        "  print(\"Support: \"+str(item[1]))\n",
        "  print(\"Confidence: \"+str(item[2][0][2]))\n",
        "  print(\"Lift: \"+str(item[2][0][3]))\n",
        "  print(\"=========================================\")"
      ],
      "execution_count": 27,
      "outputs": [
        {
          "output_type": "stream",
          "text": [
            "규칙: chicken→light cream\n",
            "Support: 0.004532728969470737\n",
            "Confidence: 0.29059829059829057\n",
            "Lift: 4.84395061728395\n",
            "=========================================\n",
            "규칙: mushroom cream sauce→escalope\n",
            "Support: 0.005732568990801226\n",
            "Confidence: 0.3006993006993007\n",
            "Lift: 3.790832696715049\n",
            "=========================================\n",
            "규칙: escalope→pasta\n",
            "Support: 0.005865884548726837\n",
            "Confidence: 0.3728813559322034\n",
            "Lift: 4.700811850163794\n",
            "=========================================\n",
            "규칙: herb & pepper→ground beef\n",
            "Support: 0.015997866951073192\n",
            "Confidence: 0.3234501347708895\n",
            "Lift: 3.2919938411349285\n",
            "=========================================\n",
            "규칙: ground beef→tomato sauce\n",
            "Support: 0.005332622317024397\n",
            "Confidence: 0.3773584905660377\n",
            "Lift: 3.840659481324083\n",
            "=========================================\n",
            "규칙: whole wheat pasta→olive oil\n",
            "Support: 0.007998933475536596\n",
            "Confidence: 0.2714932126696833\n",
            "Lift: 4.122410097642296\n",
            "=========================================\n",
            "규칙: pasta→shrimp\n",
            "Support: 0.005065991201173177\n",
            "Confidence: 0.3220338983050847\n",
            "Lift: 4.506672147735896\n",
            "=========================================\n",
            "규칙: chicken→light cream\n",
            "Support: 0.004532728969470737\n",
            "Confidence: 0.29059829059829057\n",
            "Lift: 4.84395061728395\n",
            "=========================================\n",
            "규칙: frozen vegetables→chocolate\n",
            "Support: 0.005332622317024397\n",
            "Confidence: 0.23255813953488375\n",
            "Lift: 3.2545123221103784\n",
            "=========================================\n",
            "규칙: spaghetti→ground beef\n",
            "Support: 0.004799360085321957\n",
            "Confidence: 0.5714285714285714\n",
            "Lift: 3.2819951870487856\n",
            "=========================================\n",
            "규칙: nan→mushroom cream sauce\n",
            "Support: 0.005732568990801226\n",
            "Confidence: 0.3006993006993007\n",
            "Lift: 3.790832696715049\n",
            "=========================================\n",
            "규칙: nan→escalope\n",
            "Support: 0.005865884548726837\n",
            "Confidence: 0.3728813559322034\n",
            "Lift: 4.700811850163794\n",
            "=========================================\n",
            "규칙: frozen vegetables→ground beef\n",
            "Support: 0.008665511265164644\n",
            "Confidence: 0.31100478468899523\n",
            "Lift: 3.165328208890303\n",
            "=========================================\n",
            "규칙: frozen vegetables→olive oil\n",
            "Support: 0.004799360085321957\n",
            "Confidence: 0.20338983050847456\n",
            "Lift: 3.088314005352364\n",
            "=========================================\n",
            "규칙: frozen vegetables→shrimp\n",
            "Support: 0.007199040127982935\n",
            "Confidence: 0.30508474576271183\n",
            "Lift: 3.200616332819722\n",
            "=========================================\n",
            "규칙: frozen vegetables→spaghetti\n",
            "Support: 0.005732568990801226\n",
            "Confidence: 0.20574162679425836\n",
            "Lift: 3.1240241752707125\n",
            "=========================================\n",
            "규칙: frozen vegetables→spaghetti\n",
            "Support: 0.005999200106652446\n",
            "Confidence: 0.21531100478468898\n",
            "Lift: 3.0131489680782684\n",
            "=========================================\n",
            "규칙: frozen vegetables→spaghetti\n",
            "Support: 0.006665777896280496\n",
            "Confidence: 0.23923444976076558\n",
            "Lift: 3.4980460188216425\n",
            "=========================================\n",
            "규칙: spaghetti→ground beef\n",
            "Support: 0.005332622317024397\n",
            "Confidence: 0.3225806451612903\n",
            "Lift: 3.283144395325426\n",
            "=========================================\n",
            "규칙: herb & pepper→ground beef\n",
            "Support: 0.006665777896280496\n",
            "Confidence: 0.39062500000000006\n",
            "Lift: 3.975682666214383\n",
            "=========================================\n",
            "규칙: herb & pepper→ground beef\n",
            "Support: 0.015997866951073192\n",
            "Confidence: 0.3234501347708895\n",
            "Lift: 3.2919938411349285\n",
            "=========================================\n",
            "규칙: herb & pepper→ground beef\n",
            "Support: 0.006399146780429276\n",
            "Confidence: 0.3934426229508197\n",
            "Lift: 4.004359721511667\n",
            "=========================================\n",
            "규칙: ground beef→olive oil\n",
            "Support: 0.004932675643247567\n",
            "Confidence: 0.22424242424242427\n",
            "Lift: 3.40494417862839\n",
            "=========================================\n",
            "규칙: ground beef→tomato sauce\n",
            "Support: 0.005332622317024397\n",
            "Confidence: 0.3773584905660377\n",
            "Lift: 3.840659481324083\n",
            "=========================================\n",
            "규칙: spaghetti→ground beef\n",
            "Support: 0.005999200106652446\n",
            "Confidence: 0.5232558139534884\n",
            "Lift: 3.005315360233627\n",
            "=========================================\n",
            "규칙: spaghetti→olive oil\n",
            "Support: 0.007199040127982935\n",
            "Confidence: 0.20300751879699247\n",
            "Lift: 3.0825089038385434\n",
            "=========================================\n",
            "규칙: olive oil→mineral water\n",
            "Support: 0.005199306759098787\n",
            "Confidence: 0.22543352601156072\n",
            "Lift: 3.4230301186492245\n",
            "=========================================\n",
            "규칙: nan→olive oil\n",
            "Support: 0.007998933475536596\n",
            "Confidence: 0.2714932126696833\n",
            "Lift: 4.13077198425009\n",
            "=========================================\n",
            "규칙: nan→pasta\n",
            "Support: 0.005065991201173177\n",
            "Confidence: 0.3220338983050847\n",
            "Lift: 4.515095833993347\n",
            "=========================================\n",
            "규칙: spaghetti→olive oil\n",
            "Support: 0.005065991201173177\n",
            "Confidence: 0.20105820105820105\n",
            "Lift: 3.0529100529100526\n",
            "=========================================\n",
            "규칙: frozen vegetables→chocolate\n",
            "Support: 0.005332622317024397\n",
            "Confidence: 0.23255813953488375\n",
            "Lift: 3.260595522712454\n",
            "=========================================\n",
            "규칙: spaghetti→ground beef\n",
            "Support: 0.004799360085321957\n",
            "Confidence: 0.5714285714285714\n",
            "Lift: 3.2819951870487856\n",
            "=========================================\n",
            "규칙: frozen vegetables→ground beef\n",
            "Support: 0.008665511265164644\n",
            "Confidence: 0.31100478468899523\n",
            "Lift: 3.165328208890303\n",
            "=========================================\n",
            "규칙: frozen vegetables→spaghetti\n",
            "Support: 0.004532728969470737\n",
            "Confidence: 0.28813559322033894\n",
            "Lift: 3.0228043143297376\n",
            "=========================================\n",
            "규칙: frozen vegetables→nan\n",
            "Support: 0.004799360085321957\n",
            "Confidence: 0.20338983050847456\n",
            "Lift: 3.094578333963626\n",
            "=========================================\n",
            "규칙: frozen vegetables→nan\n",
            "Support: 0.007199040127982935\n",
            "Confidence: 0.30508474576271183\n",
            "Lift: 3.200616332819722\n",
            "=========================================\n",
            "규칙: frozen vegetables→nan\n",
            "Support: 0.005732568990801226\n",
            "Confidence: 0.20574162679425836\n",
            "Lift: 3.1303609383037156\n",
            "=========================================\n",
            "규칙: frozen vegetables→nan\n",
            "Support: 0.005999200106652446\n",
            "Confidence: 0.21531100478468898\n",
            "Lift: 3.0187810222242093\n",
            "=========================================\n",
            "규칙: frozen vegetables→nan\n",
            "Support: 0.006665777896280496\n",
            "Confidence: 0.23923444976076558\n",
            "Lift: 3.4980460188216425\n",
            "=========================================\n",
            "규칙: spaghetti→ground beef\n",
            "Support: 0.005332622317024397\n",
            "Confidence: 0.3225806451612903\n",
            "Lift: 3.283144395325426\n",
            "=========================================\n",
            "규칙: herb & pepper→ground beef\n",
            "Support: 0.006665777896280496\n",
            "Confidence: 0.39062500000000006\n",
            "Lift: 3.975682666214383\n",
            "=========================================\n",
            "규칙: herb & pepper→ground beef\n",
            "Support: 0.006399146780429276\n",
            "Confidence: 0.3934426229508197\n",
            "Lift: 4.004359721511667\n",
            "=========================================\n",
            "규칙: ground beef→olive oil\n",
            "Support: 0.004932675643247567\n",
            "Confidence: 0.22424242424242427\n",
            "Lift: 3.4118507591124225\n",
            "=========================================\n",
            "규칙: spaghetti→ground beef\n",
            "Support: 0.005999200106652446\n",
            "Confidence: 0.5232558139534884\n",
            "Lift: 3.005315360233627\n",
            "=========================================\n",
            "규칙: spaghetti→nan\n",
            "Support: 0.007199040127982935\n",
            "Confidence: 0.20300751879699247\n",
            "Lift: 3.088761457396025\n",
            "=========================================\n",
            "규칙: nan→olive oil\n",
            "Support: 0.005199306759098787\n",
            "Confidence: 0.22543352601156072\n",
            "Lift: 3.429973384609973\n",
            "=========================================\n",
            "규칙: spaghetti→nan\n",
            "Support: 0.005065991201173177\n",
            "Confidence: 0.20105820105820105\n",
            "Lift: 3.0591025682303568\n",
            "=========================================\n",
            "규칙: mineral water→frozen vegetables\n",
            "Support: 0.004532728969470737\n",
            "Confidence: 0.28813559322033894\n",
            "Lift: 3.0228043143297376\n",
            "=========================================\n"
          ],
          "name": "stdout"
        }
      ]
    }
  ]
}